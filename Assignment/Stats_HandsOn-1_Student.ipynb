{
 "cells": [
  {
   "cell_type": "markdown",
   "id": "13f5793b",
   "metadata": {},
   "source": [
    "<a href=\"https://clarusway.com/contact-us/\"><img align=\"center\" src=\"https://i.ibb.co/B43qn24/officially-licensed-logo.png\" alt=\"Open in Clarusway LMS\" width=\"200\" height=\"200\" title=\"This notebook is licensed by Clarusway IT training school. Please contact the authorized persons about the conditions under which you can use or share.\"></a>"
   ]
  },
  {
   "cell_type": "markdown",
   "id": "e1b4abf9",
   "metadata": {},
   "source": [
    "<p style=\"text-align: center;\"><img src=\"https://i.ibb.co/Rpz9L36/clarusway-logo-black.png\" width=\"600\" height=\"150\" class=\"img-fluid\" alt=\"CLRSWY_LOGO\"></p>\n",
    "<p style=\"text-align: center;\"><img src=\"https://i.ibb.co/XS0bxSH/best-bootcamps.png\" width=\"400\" height=\"130\" class=\"img-fluid\" alt=\"CLRSWY_LOGO\"></p>\n",
    "<p style=\"background-color:#E51A59; font-family:newtimeroman; color:#FDFEFE; font-size:130%; text-align:center; border-radius:10px 10px;\">WAY TO REINVENT YOURSELF</p>"
   ]
  },
  {
   "cell_type": "markdown",
   "id": "6047d7b2",
   "metadata": {},
   "source": [
    "# Central Limit Theorem (CLT):\n",
    "\n",
    "The Central Limit Theorem is a fundamental concept in statistics that describes the behavior of the distribution of sample means for a large enough sample size, regardless of the original distribution of the population.\n",
    "\n",
    "**Key Points:**\n",
    "\n",
    "**1. Large Enough Sample:**\n",
    "\n",
    "The Central Limit Theorem applies when you have a sufficiently large sample size. Though there isn't a strict rule, a common guideline is a sample size of at least 30. However, for some distributions, you might need a larger sample size.\n",
    "\n",
    "**2. Regardless of Population Distribution:**\n",
    "\n",
    "It doesn't matter what the shape of the population distribution is initially. The Central Limit Theorem asserts that as long as the sample size is large enough, the distribution of the sample means will be approximately normally distributed.\n",
    "\n",
    "**3. Normal Distribution of Sample Means:**\n",
    "\n",
    "The theorem states that, for a large sample size, the distribution of the sample means will be approximately normal, even if the population distribution is not normal.\n",
    "\n",
    "**4. Mean and Standard Deviation:**\n",
    "\n",
    "The mean of the sample means will be equal to the population mean, and the standard deviation of the sample means (standard error) will be equal to the population standard deviation divided by the square root of the sample size.\n",
    "\n",
    "**Why is it Important:**\n",
    "\n",
    "- **Statistical Inference:**\n",
    "\n",
    "The Central Limit Theorem is crucial for statistical inference. It allows us to make inferences about population parameters using sample statistics, particularly when we're dealing with the mean.\n",
    "\n",
    "- **Normal Distribution Simplification:**\n",
    "\n",
    "The normal distribution is mathematically convenient and well understood. The CLT allows us to treat the distribution of sample means as normal, making statistical analysis more straightforward.\n",
    "\n",
    "**Example:**\n",
    "\n",
    "Imagine you're measuring the heights of people in a population. The distribution of individual heights might not be normal, but if you take many random samples of, let's say, 30 people each and calculate the mean height for each sample, the distribution of those sample means will be approximately normal, according to the Central Limit Theorem.\n",
    "\n",
    "In summary, the Central Limit Theorem is a powerful tool in statistics that allows us to make certain assumptions and draw conclusions about populations based on the distribution of sample means, making statistical analysis more practical and applicable in real-world situations."
   ]
  },
  {
   "cell_type": "markdown",
   "id": "4ca5e664",
   "metadata": {},
   "source": [
    "## Question\n",
    "    \n",
    "You are given a population dataset with the heights of individuals. The mean height is 65 inches, and the standard deviation is 4 inches. A random sample of 100 individuals is taken from this population. Calculate the probability that the mean height of this sample is less than 64 inches."
   ]
  },
  {
   "cell_type": "code",
   "execution_count": 1,
   "id": "4b2e3eb0",
   "metadata": {},
   "outputs": [],
   "source": [
    "import numpy as np\n",
    "import scipy.stats as stats\n",
    "\n",
    "# Given data\n",
    "population_mean = 65\n",
    "population_std_dev = 4\n",
    "sample_size = 100\n",
    "sample_mean = population_mean  # The sample mean is equal to the population mean for the central limit theorem"
   ]
  },
  {
   "cell_type": "code",
   "execution_count": 3,
   "id": "252c76e3",
   "metadata": {},
   "outputs": [
    {
     "data": {
      "text/plain": [
       "0.4"
      ]
     },
     "execution_count": 3,
     "metadata": {},
     "output_type": "execute_result"
    }
   ],
   "source": [
    "# Calculate the sample's standart deviation\n",
    "sem = population_std_dev / np.sqrt(sample_size)\n",
    "sem"
   ]
  },
  {
   "cell_type": "code",
   "execution_count": 5,
   "id": "15e5cc1f",
   "metadata": {},
   "outputs": [
    {
     "data": {
      "text/plain": [
       "-2.5"
      ]
     },
     "execution_count": 5,
     "metadata": {},
     "output_type": "execute_result"
    }
   ],
   "source": [
    "# Calculate the z-score\n",
    "z = (64 - population_mean) / sem\n",
    "z"
   ]
  },
  {
   "cell_type": "code",
   "execution_count": 9,
   "id": "8ff362f5",
   "metadata": {},
   "outputs": [
    {
     "data": {
      "text/plain": [
       "0.006209665325776132"
      ]
     },
     "execution_count": 9,
     "metadata": {},
     "output_type": "execute_result"
    }
   ],
   "source": [
    "# Use the cumulative distribution function (CDF) to find the probability\n",
    "stats.norm.cdf(z)\n"
   ]
  },
  {
   "cell_type": "markdown",
   "id": "53966efc",
   "metadata": {},
   "source": [
    "# Confidence intervals\n",
    "\n",
    "A confidence interval is a statistical tool used to estimate the range in which we are reasonably confident that a population parameter, such as the mean, is likely to lie. It provides a range of values rather than a single point estimate, offering a measure of the uncertainty associated with our estimation.\n",
    "\n",
    "**Key Points:**\n",
    "\n",
    "**1. Point Estimate:**\n",
    "\n",
    "A point estimate is a single value (like the sample mean) that serves as the best guess for the population parameter. However, it doesn't convey the entire picture of uncertainty.\n",
    "\n",
    "**2. Margin of Error:**\n",
    "\n",
    "The confidence interval consists of a point estimate and a margin of error. The margin of error is influenced by the variability in the data and the desired level of confidence.\n",
    "\n",
    "**3. Level of Confidence:**\n",
    "\n",
    "The level of confidence represents the probability that the interval will contain the true population parameter. Common levels are 95%, 90%, or 99%. A 95% confidence interval, for example, implies that if we were to take many samples and construct intervals in the same way, we expect about 95% of those intervals to contain the true parameter.\n",
    "\n",
    "**4. Calculation:**\n",
    "\n",
    "The formula for a confidence interval is:\n",
    "\n",
    "Confidence Interval = Point Estimate ± Margin of Error\n",
    "\n",
    "The margin of error is typically determined using critical values from a standard normal distribution or a t-distribution, depending on the sample size.\n",
    "\n",
    "**Why are Confidence Intervals Important:**\n",
    "\n",
    "- **Uncertainty:**\n",
    "\n",
    "They convey the uncertainty inherent in statistical estimates. Instead of providing a single, potentially misleading number, confidence intervals give a range that is likely to contain the true parameter.\n",
    "\n",
    "- **Comparisons:**\n",
    "\n",
    "They allow for meaningful comparisons between different groups or conditions. Knowing that two confidence intervals don't overlap, for example, might suggest a significant difference between the groups.\n",
    "\n",
    "- **Decision Making:**\n",
    "\n",
    "They aid in decision-making by providing a sense of the precision of our estimates. Wider intervals suggest greater uncertainty, while narrower intervals suggest more precise estimates.\n",
    "\n",
    "**Example:**\n",
    "\n",
    "Suppose you're estimating the average height of a population. You calculate a 95% confidence interval of (65 inches, 67 inches). This means you are 95% confident that the true average height of the population falls within this range. The point estimate is the midpoint (66 inches), and the margin of error is \n",
    "\n",
    "(67 − 65) / 2 = 1 inch.\n",
    "\n",
    "In essence, confidence intervals provide a more nuanced and informative way to report estimates, acknowledging the inherent variability in data and the level of confidence we have in our estimates."
   ]
  },
  {
   "cell_type": "markdown",
   "id": "0891738b",
   "metadata": {},
   "source": [
    "## Question\n",
    "\n",
    "You are conducting a study on the scores of students in a standardized test. From a sample of 50 students, the mean score is found to be 72, and the standard deviation is 5. Calculate a 95% confidence interval for the true mean score of all students."
   ]
  },
  {
   "cell_type": "code",
   "execution_count": 10,
   "id": "bc377c7f",
   "metadata": {},
   "outputs": [],
   "source": [
    "import numpy as np\n",
    "import scipy.stats as stats\n",
    "\n",
    "# Given data\n",
    "sample_size = 50\n",
    "sample_mean = 72\n",
    "sample_std_dev = 5\n",
    "confidence_level = 0.95"
   ]
  },
  {
   "cell_type": "code",
   "execution_count": 11,
   "id": "a620e573",
   "metadata": {},
   "outputs": [
    {
     "data": {
      "text/plain": [
       "0.7071067811865475"
      ]
     },
     "execution_count": 11,
     "metadata": {},
     "output_type": "execute_result"
    }
   ],
   "source": [
    "# Calculate the standard error of the mean (SEM)\n",
    "sem = sample_std_dev / np.sqrt(sample_size)\n",
    "sem"
   ]
  },
  {
   "cell_type": "code",
   "execution_count": 12,
   "id": "994ce8e7",
   "metadata": {},
   "outputs": [
    {
     "data": {
      "text/plain": [
       "1.385929291125633"
      ]
     },
     "execution_count": 12,
     "metadata": {},
     "output_type": "execute_result"
    }
   ],
   "source": [
    "# Calculate the margin of error (MOE)\n",
    "moe = 1.96 * sem\n",
    "moe"
   ]
  },
  {
   "cell_type": "code",
   "execution_count": 13,
   "id": "fdfec4c7",
   "metadata": {},
   "outputs": [
    {
     "data": {
      "text/plain": [
       "(70.61409617565032, 73.38590382434968)"
      ]
     },
     "execution_count": 13,
     "metadata": {},
     "output_type": "execute_result"
    }
   ],
   "source": [
    "# Calculate the confidence interval\n",
    "ci = stats.norm.interval(0.95, sample_mean, sem)\n",
    "ci"
   ]
  },
  {
   "cell_type": "markdown",
   "id": "c564035b",
   "metadata": {},
   "source": [
    "# One-Sample t-test\n",
    "\n",
    "The one-sample t-test is a statistical test used to determine whether the mean of a single sample is significantly different from a known or hypothesized population mean. Here's a brief explanation:\n",
    "\n",
    "**Objective:**\n",
    "\n",
    "Assess whether the sample mean is significantly different from a hypothesized population mean.\n",
    "\n",
    "**Steps:**\n",
    "\n",
    "- **1. State Hypotheses:**\n",
    "\n",
    "    - Null Hypothesis (Ho): The population mean is equal to a specified value (μ=hypothesized value)\n",
    "    - Alternative Hypothesis (Ha): The population mean is not equal to the specified value.\n",
    "\n",
    "- **2. Collect Data:**\n",
    "\n",
    "    - Gather a sample from the population of interest.\n",
    "\n",
    "- **3. Calculate the t-Statistic:**\n",
    "\n",
    "    - Use the formula  t = (x_bar - mu)/(s/sqrt(n))\n",
    " \n",
    "    - where x_bar is the sample mean, μ is the hypothesized population mean, s is the sample standard deviation, and n is the sample size.\n",
    "\n",
    "- **4. Determine Degrees of Freedom:**\n",
    "\n",
    "    - Degrees of freedom (df) is equal to the sample size minus one (df=n−1).\n",
    "\n",
    "- **5. Choose Significance Level (α):**\n",
    "\n",
    "    - Commonly chosen values are 0.05 or 0.01.\n",
    "\n",
    "- **6. Calculate Critical t-Values:**\n",
    "\n",
    "    - Use a t-table or statistical software to find the critical t-values based on the chosen significance level and degrees of freedom.\n",
    "\n",
    "- **7. Make Decision:**\n",
    "\n",
    "    - If the absolute value of the calculated t-statistic is greater than the critical t-value, reject the null hypothesis.\n",
    "    - If the p-value is less than the chosen significance level, reject the null hypothesis.\n",
    "\n",
    "- **8. Draw Conclusion:**\n",
    "\n",
    "    - Conclude whether there is enough evidence to reject the null hypothesis and accept the alternative hypothesis.\n",
    "\n",
    "The one-sample t-test is commonly used in various fields to compare a sample mean to a known or hypothesized population mean, providing a way to assess whether any observed differences are statistically significant."
   ]
  },
  {
   "cell_type": "markdown",
   "id": "9d779b1f",
   "metadata": {},
   "source": [
    "## Question-1\n",
    "\n",
    "Suppose you have a sample of 30 students, and you want to test whether their average score is significantly different from the population mean of 75. Perform a one-sample t-test at a significance level of 0.05."
   ]
  },
  {
   "cell_type": "code",
   "execution_count": 14,
   "id": "281005c1",
   "metadata": {},
   "outputs": [],
   "source": [
    "import numpy as np\n",
    "import scipy.stats as stats\n",
    "\n",
    "# Given data\n",
    "sample_size = 30\n",
    "sample_mean = 72  # Assume the sample mean is 72 for this example\n",
    "population_mean = 75\n",
    "significance_level = 0.05"
   ]
  },
  {
   "cell_type": "code",
   "execution_count": 16,
   "id": "f7623cbd",
   "metadata": {},
   "outputs": [
    {
     "data": {
      "text/plain": [
       "-3.2863353450309964"
      ]
     },
     "execution_count": 16,
     "metadata": {},
     "output_type": "execute_result"
    }
   ],
   "source": [
    "# Calculate the t-statistic and p_value\n",
    "s = 5\n",
    "t = (sample_mean - population_mean) / (s / np.sqrt(sample_size))\n",
    "t"
   ]
  },
  {
   "cell_type": "code",
   "execution_count": 7,
   "id": "8a8737f7",
   "metadata": {},
   "outputs": [],
   "source": [
    "# Check if the result is statistically significant\n",
    "\n"
   ]
  },
  {
   "cell_type": "markdown",
   "id": "82382b5c",
   "metadata": {},
   "source": [
    "## Question-2\n",
    "\n",
    "Let's say you work for a company that produces light bulbs, and they claim that the average lifespan of their bulbs is 1000 hours. You decide to test this claim by taking a sample of 25 bulbs and recording their lifespans. The sample has a mean lifespan of 980 hours with a standard deviation of 50 hours.\n",
    "\n",
    "\n",
    "Is there enough evidence to support the company's claim that the average lifespan of their light bulbs is 1000 hours?"
   ]
  },
  {
   "cell_type": "code",
   "execution_count": 8,
   "id": "3d1eafd9",
   "metadata": {},
   "outputs": [],
   "source": [
    "# State the Hypothesis:\n",
    "\n"
   ]
  },
  {
   "cell_type": "code",
   "execution_count": 18,
   "id": "cf79f61c",
   "metadata": {},
   "outputs": [],
   "source": [
    "# Collect, Analyze the Data\n",
    "# Set the Significance Level (α) as 0.05\n",
    "\n",
    "import numpy as np\n",
    "from scipy import stats\n",
    "import matplotlib.pyplot as plt\n",
    "\n",
    "# Given data\n",
    "sample_mean = 980\n",
    "population_mean = 1000\n",
    "sample_std = 50\n",
    "sample_size = 25\n",
    "significance_level = 0.05 # alpha"
   ]
  },
  {
   "cell_type": "code",
   "execution_count": 19,
   "id": "ce58840a",
   "metadata": {},
   "outputs": [
    {
     "data": {
      "text/plain": [
       "array([ 930.57419976,  896.49871143, 1081.72512304,  966.06243845,\n",
       "        904.917997  ,  943.48843819,  972.08663952,  957.64164541,\n",
       "        988.41384435, 1020.17199294,  955.89222729,  962.89920515,\n",
       "       1005.06712972, 1000.26622884,  946.47975382, 1002.28669659,\n",
       "       1012.1925282 , 1015.9133843 , 1020.77015077, 1044.79725289,\n",
       "       1047.64127419,  983.05067039,  961.41438452,  930.87868698,\n",
       "       1011.80537821])"
      ]
     },
     "execution_count": 19,
     "metadata": {},
     "output_type": "execute_result"
    }
   ],
   "source": [
    "# Generate a sample of lifespans - Create data with np.random.normal(loc=population_mean, scale=sample_std, size=sample_size)\n",
    "x =  np.random.normal(loc=population_mean, scale=sample_std, size=sample_size)\n",
    "x"
   ]
  },
  {
   "cell_type": "code",
   "execution_count": 20,
   "id": "4974a297",
   "metadata": {},
   "outputs": [
    {
     "data": {
      "text/plain": [
       "-2.0"
      ]
     },
     "execution_count": 20,
     "metadata": {},
     "output_type": "execute_result"
    }
   ],
   "source": [
    "# Perform one-sample t-test\n",
    "t = (sample_mean-population_mean) / (sample_std / np.sqrt(sample_size))\n",
    "t"
   ]
  },
  {
   "cell_type": "code",
   "execution_count": 21,
   "id": "922e1a92",
   "metadata": {},
   "outputs": [
    {
     "data": {
      "text/plain": [
       "0.028469924968295833"
      ]
     },
     "execution_count": 21,
     "metadata": {},
     "output_type": "execute_result"
    }
   ],
   "source": [
    "# Check if the result is statistically significant\n",
    "p_value = stats.t.cdf(t, sample_size-1)\n",
    "p_value"
   ]
  },
  {
   "attachments": {
    "image.png": {
     "image/png": "[encoded data removed]"
    }
   },
   "cell_type": "markdown",
   "id": "8caf28f5",
   "metadata": {},
   "source": [
    "# Independent t-test:\n",
    "\n",
    "\n",
    "The independent samples t-test is a statistical test used to compare the means of two independent groups to determine if they are significantly different from each other. Here's a brief explanation:\n",
    "\n",
    "**Objective:**\n",
    "\n",
    "Assess whether the means of two independent groups are significantly different from each other.\n",
    "\n",
    "**Assumptions:**\n",
    "\n",
    "- The data in each group are independent and identically distributed.\n",
    "- The populations from which the samples are drawn are approximately normally distributed.\n",
    "- The variances of the two populations are approximately equal (homogeneity of variances).\n",
    "\n",
    "**Steps:**\n",
    "\n",
    "- **1. State Hypotheses:**\n",
    "\n",
    "    - Null Hypothesis (Ho) : The means of the two groups are equal (μ1 = μ2)\n",
    "    - Alternative Hypothesis (Ha): The means of the two groups are not equal.\n",
    "\n",
    "- **2.Collect Data:**\n",
    "\n",
    "    - Gather two independent samples from the two groups.\n",
    "\n",
    "- **3. Calculate the t-Statistic:**\n",
    "\n",
    "  Use the formula:\n",
    "\n",
    "![image.png](attachment:image.png)\n",
    " \n",
    "where x1_bar and x2_bar are the sample means, s1 and s2 are the sample standard deviations, and n1 and n2 are the sample sizes for the two groups.\n",
    "\n",
    "- **4. Determine Degrees of Freedom:**\n",
    "\n",
    "    - Degrees of freedom (df) depend on the sample sizes and variances of the two groups.\n",
    "\n",
    "- **5. Choose Significance Level (α):**\n",
    "\n",
    "    - Commonly chosen values are 0.05 or 0.01.\n",
    "\n",
    "- **6. Calculate Critical t-Values:**\n",
    "\n",
    "    - Use a t-table or statistical software to find the critical t-values based on the chosen significance level and degrees of freedom.\n",
    "\n",
    "- **7. Make Decision:**\n",
    "\n",
    "    - If the absolute value of the calculated t-statistic is greater than the critical t-value, reject the null hypothesis.\n",
    "    - If the p-value is less than the chosen significance level, reject the null hypothesis.\n",
    "\n",
    "- **8. Draw Conclusion:**\n",
    "\n",
    "    - Conclude whether there is enough evidence to reject the null hypothesis and accept the alternative hypothesis.\n",
    "\n",
    "The independent samples t-test is widely used to compare means of two groups, such as comparing the test scores of students in two different teaching methods or comparing the blood pressure levels between two different treatments."
   ]
  },
  {
   "cell_type": "markdown",
   "id": "f3035bf5",
   "metadata": {},
   "source": [
    "## Question-1\n",
    "\n",
    "Compare the average scores of two independent groups of students, Group A and Group B, to see if there is a significant difference between them."
   ]
  },
  {
   "cell_type": "code",
   "execution_count": 18,
   "id": "f8481ab7",
   "metadata": {},
   "outputs": [],
   "source": [
    "# Example data\n",
    "\n",
    "group_a_scores = np.random.normal(72, 5, 30)\n",
    "group_b_scores = np.random.normal(75, 5, 30)"
   ]
  },
  {
   "cell_type": "code",
   "execution_count": 10,
   "id": "5150c648",
   "metadata": {},
   "outputs": [],
   "source": [
    "# Calculate the t-statistic and p_value\n",
    "\n"
   ]
  },
  {
   "cell_type": "code",
   "execution_count": 11,
   "id": "5dd3fc41",
   "metadata": {},
   "outputs": [],
   "source": [
    "# Check if the result is statistically significant\n",
    "\n"
   ]
  },
  {
   "cell_type": "markdown",
   "id": "2a6c662f",
   "metadata": {},
   "source": [
    "## Question-2\n",
    "\n",
    "consider a scenario where we want to compare the average scores of two groups of students who attended different tutoring programs for exam preparation to see if there is a significant difference between them."
   ]
  },
  {
   "cell_type": "markdown",
   "id": "30219c87",
   "metadata": {},
   "source": [
    "Hypotheses:\n",
    "\n",
    "Null Hypothesis (Ho) : The mean exam scores of students who attended Program A are equal to the mean exam scores of students who attended Program B (μA = μB)\n",
    "\n",
    "Alternative Hypothesis (Ha : The mean exam scores of students who attended Program A are not equal to the mean exam scores of students who attended Program B (μA ≠ μB)"
   ]
  },
  {
   "cell_type": "code",
   "execution_count": 60,
   "id": "587b710a",
   "metadata": {},
   "outputs": [
    {
     "name": "stdout",
     "output_type": "stream",
     "text": [
      "tutoring_A_scores is: ([ 89.96714153  83.61735699  91.47688538 100.23029856  82.65846625\n",
      "  82.65863043 100.79212816  92.67434729  80.30525614  90.42560044\n",
      "  80.36582307  80.34270246  87.41962272  65.86719755  67.75082167\n",
      "  79.37712471  74.8716888   88.14247333  75.91975924  70.87696299\n",
      "  99.65648769  82.742237    85.67528205  70.75251814  79.55617275\n",
      "  86.1092259   73.49006423  88.75698018  78.9936131   82.0830625\n",
      "  78.98293388 103.52278185  84.86502775  74.42289071  93.22544912\n",
      "  72.7915635   87.08863595  65.40329876  71.71813951  86.96861236])\n",
      "\n",
      "\n",
      "tutoring_B_scores is: ([ 95.90773264  91.37094625  89.07481374  87.59117044  78.17182408\n",
      "  84.24124633  86.31488983  98.45697781  92.74894632  75.89567876\n",
      "  92.59267176  86.91934176  84.584624    94.89341031  98.24799618\n",
      "  97.45024095  83.28625981  87.52630099  92.65010745  97.80436102\n",
      "  86.1666061   88.51472819  81.14932021  80.43034701  96.50020658\n",
      " 100.84992023  89.42391903  98.02826318  92.8930882   84.83904196\n",
      "  92.89116484 102.30429253  89.71339169 102.51714925  69.04203917\n",
      "  96.57522004  90.69637655  87.6079412   90.73408621  74.09944868])\n"
     ]
    }
   ],
   "source": [
    "# Data Generation:\n",
    "\n",
    "# We generate simulated data for the exam scores of students in each program using a normal distribution.\n",
    "\n",
    "import numpy as np\n",
    "from scipy import stats\n",
    "\n",
    "# Set random seed for reproducibility\n",
    "np.random.seed(42)\n",
    "\n",
    "# Generate data for students who attended Tutoring Program A\n",
    "tutoring_A_scores = np.random.normal(loc=85, scale=10, size=40)\n",
    "print(f\"tutoring_A_scores is: ({tutoring_A_scores})\")\n",
    "\n",
    "print(\"\\n\")\n",
    "\n",
    "# Generate data for students who attended Tutoring Program B\n",
    "tutoring_B_scores = np.random.normal(loc=90, scale=8, size=40)\n",
    "print(f\"tutoring_B_scores is: ({tutoring_B_scores})\")"
   ]
  },
  {
   "cell_type": "code",
   "execution_count": 12,
   "id": "2dde9eeb",
   "metadata": {},
   "outputs": [],
   "source": [
    "# Perform Independent Samples t-Test:\n",
    "\n"
   ]
  },
  {
   "cell_type": "code",
   "execution_count": 13,
   "id": "d06ec49b",
   "metadata": {},
   "outputs": [],
   "source": [
    "# Check if the result is statistically significant\n",
    "\n"
   ]
  },
  {
   "cell_type": "markdown",
   "id": "14c29b5a",
   "metadata": {},
   "source": [
    "# Dependent t-test\n",
    "\n",
    "The dependent samples t-test, also known as a paired samples t-test, is a statistical test used to compare the means of two related groups. Here's a brief explanation:\n",
    "\n",
    "**Objective:**\n",
    "\n",
    "Assess whether there is a significant difference between the means of two related groups.\n",
    "\n",
    "**Key Points:**\n",
    "\n",
    "- **1. Dependent Groups:**\n",
    "\n",
    "    - The groups being compared are not independent; they are related or matched pairs. Each individual in one group is directly paired with an individual in the other group.\n",
    "\n",
    "- **2. Hypotheses:**\n",
    "\n",
    "    - Null Hypothesis (Ho): The mean difference between the paired observations is equal to zero (μd = 0)\n",
    "    - Alternative Hypothesis (Ha): The mean difference between the paired observations is not equal to zero (μd ≠ 0).\n",
    "\n",
    "- **3. Data Requirement:**\n",
    "\n",
    "    - Data is collected on the same subjects or items under different conditions, treatments, or time points.\n",
    "\n",
    "- **4. Calculation of Differences:**\n",
    "\n",
    "    - The test is based on the differences between the paired observations (e.g., before and after treatment, pre-test and post-test scores).\n",
    "\n",
    "- **5. Assumption:**\n",
    "\n",
    "    - The differences between pairs are assumed to be approximately normally distributed.\n",
    "\n",
    "- **6. Performing the Test:**\n",
    "\n",
    "    - The t-test is performed on the differences, and the test statistic and p-value are calculated.\n",
    "\n",
    "- **7. Decision Making:**\n",
    "\n",
    "    - If the p-value is less than the chosen significance level (e.g., 0.05), the null hypothesis is rejected.\n",
    "\n",
    "- **8. Interpretation:**\n",
    "\n",
    "    - Rejecting the null hypothesis indicates that there is a significant difference between the means of the related groups."
   ]
  },
  {
   "cell_type": "markdown",
   "id": "cfa1be35",
   "metadata": {},
   "source": [
    "## Question-1\n",
    "\n",
    "Compare the scores of the same group of students before and after a training program to see if there is a significant improvement."
   ]
  },
  {
   "cell_type": "code",
   "execution_count": 64,
   "id": "a4cd5295",
   "metadata": {},
   "outputs": [],
   "source": [
    "# Example data\n",
    "\n",
    "before_scores = np.random.normal(72, 5, 30)\n",
    "after_scores = before_scores + np.random.normal(5, 2, 30)"
   ]
  },
  {
   "cell_type": "code",
   "execution_count": 14,
   "id": "fc324a36",
   "metadata": {},
   "outputs": [],
   "source": [
    "# Calculate the t-statistic and p_value\n",
    "\n"
   ]
  },
  {
   "cell_type": "code",
   "execution_count": 15,
   "id": "c1f11a72",
   "metadata": {},
   "outputs": [],
   "source": [
    "# Check if the result is statistically significant\n",
    "\n"
   ]
  },
  {
   "cell_type": "markdown",
   "id": "e7aea85a",
   "metadata": {},
   "source": [
    "## Question-2\n",
    "\n",
    "A group of individuals participates in a lifestyle intervention program to improve their health, with a focus on reducing stress and improving overall well-being. We want to investigate if there is a statistically significant change in their blood pressure before and after the intervention."
   ]
  },
  {
   "cell_type": "markdown",
   "id": "f7e21f6f",
   "metadata": {},
   "source": [
    "Hypotheses:\n",
    "\n",
    "Null Hypothesis (Ho) : The mean difference in blood pressure before and after the intervention is zero (μdiff = 0)\n",
    "Alternative Hypothesis (Ha) : The mean difference in blood pressure before and after the intervention is not equal to zero (μdiff ≠ 0)"
   ]
  },
  {
   "cell_type": "code",
   "execution_count": 70,
   "id": "cdb2f503",
   "metadata": {},
   "outputs": [
    {
     "name": "stdout",
     "output_type": "stream",
     "text": [
      "bp_before is: ([124.96714153 118.61735699 126.47688538 135.23029856 117.65846625\n",
      " 117.65863043 135.79212816 127.67434729 115.30525614 125.42560044\n",
      " 115.36582307 115.34270246 122.41962272 100.86719755 102.75082167\n",
      " 114.37712471 109.8716888  123.14247333 110.91975924 105.87696299\n",
      " 134.65648769 117.742237   120.67528205 105.75251814 114.55617275])\n",
      "\n",
      "\n",
      "bp_after is: ([120.85452225 104.40940837 124.48246953 125.42518904 110.32491625\n",
      " 107.84497753 145.61035363 122.56636949 101.84356871 127.00595973\n",
      " 100.59907387 112.01361122 101.74226172  85.24170916  99.32571156\n",
      " 115.28485735 106.24263505 117.21728707 103.51092968  89.04878706\n",
      " 123.89773402 109.05712683 124.13225986 103.50146445  95.45185151])\n"
     ]
    }
   ],
   "source": [
    "# Data Generation:\n",
    "\n",
    "import numpy as np\n",
    "from scipy import stats\n",
    "\n",
    "# Set random seed for reproducibility\n",
    "np.random.seed(42)\n",
    "\n",
    "# Generate data for blood pressure before the intervention\n",
    "bp_before = np.random.normal(loc=120, scale=10, size=25)\n",
    "print(f\"bp_before is: ({bp_before})\")\n",
    "\n",
    "print(\"\\n\")\n",
    "\n",
    "# Generate data for blood pressure after the intervention\n",
    "bp_after = bp_before + np.random.normal(loc=-5, scale=8, size=25)\n",
    "print(f\"bp_after is: ({bp_after})\")"
   ]
  },
  {
   "cell_type": "markdown",
   "id": "ff57c601",
   "metadata": {},
   "source": [
    "In this example, bp_before represents the blood pressure of individuals before the lifestyle intervention, and bp_after represents the blood pressure after the intervention. The blood pressure after the intervention is generated by adding a random normal distribution with a mean of -5 and a standard deviation of 8, simulating a potential reduction in blood pressure."
   ]
  },
  {
   "cell_type": "code",
   "execution_count": null,
   "id": "88fe1fcc",
   "metadata": {},
   "outputs": [],
   "source": [
    "# Perform dependent samples t-test\n",
    "\n"
   ]
  },
  {
   "cell_type": "code",
   "execution_count": 16,
   "id": "49ec02d0",
   "metadata": {},
   "outputs": [],
   "source": [
    "# Check if the result is statistically significant\n",
    "\n"
   ]
  },
  {
   "cell_type": "markdown",
   "id": "6f78a599",
   "metadata": {},
   "source": [
    "# One-way ANOVA\n",
    "\n",
    "One-way Analysis of Variance (ANOVA) is a statistical test used to determine if there are any statistically significant differences between the means of three or more independent (unrelated) groups. Here's a brief explanation:\n",
    "\n",
    "**Objective:**\n",
    "\n",
    "Assess whether there are any statistically significant differences in the means of three or more groups.\n",
    "\n",
    "**Key Points:**\n",
    "\n",
    "- **1. Groups:**\n",
    "\n",
    "    - The data is divided into three or more groups or categories.\n",
    "\n",
    "- **2. Hypotheses:**\n",
    "\n",
    "    - Null Hypothesis (Ho): The means of all groups are equal.\n",
    "    - Alternative Hypothesis (Ha) : At least one group mean is different from the others.\n",
    "\n",
    "- **3. Assumptions:**\n",
    "\n",
    "    - The data within each group is approximately normally distributed.\n",
    "    - Homogeneity of variances: The variances within each group are approximately equal.\n",
    "\n",
    "- **4. Variability:**\n",
    "\n",
    "    - ANOVA assesses the variability between group means compared to the variability within each group.\n",
    "\n",
    "- **5. Sum of Squares:**\n",
    "\n",
    "    - ANOVA calculates the sum of squares between groups and within groups.\n",
    "\n",
    "- **6. F-Statistic:**\n",
    "\n",
    "    - The F-statistic is calculated as the ratio of the variance between groups to the variance within groups.\n",
    "\n",
    "- **7. P-Value:**\n",
    "\n",
    "    - The p-value associated with the F-statistic is used to determine whether to reject the null hypothesis.\n",
    "\n",
    "- **8. Post Hoc Tests:**\n",
    "\n",
    "    - If ANOVA indicates significant differences, post hoc tests (e.g., Tukey's HSD) may be used to identify which groups differ from each other."
   ]
  },
  {
   "cell_type": "markdown",
   "id": "1e7bb42a",
   "metadata": {},
   "source": [
    "## Question-1\n",
    "\n",
    "Test whether there is a significant difference in the average scores among three or more groups."
   ]
  },
  {
   "cell_type": "code",
   "execution_count": 24,
   "id": "5f5c9cc2",
   "metadata": {},
   "outputs": [],
   "source": [
    "# Example data\n",
    "\n",
    "group_a_scores = np.random.normal(72, 5, 30)\n",
    "group_b_scores = np.random.normal(75, 5, 30)\n",
    "group_c_scores = np.random.normal(78, 5, 30)"
   ]
  },
  {
   "cell_type": "code",
   "execution_count": 17,
   "id": "f2a42aa1",
   "metadata": {},
   "outputs": [],
   "source": [
    "# Calculate the t-statistic and p_value\n",
    "\n"
   ]
  },
  {
   "cell_type": "code",
   "execution_count": 18,
   "id": "95f50cdf",
   "metadata": {},
   "outputs": [],
   "source": [
    "# Check if the result is statistically significant\n",
    "\n"
   ]
  },
  {
   "cell_type": "markdown",
   "id": "ec861abb",
   "metadata": {},
   "source": [
    "**Question-2:**\n",
    "\n",
    "A psychological experiment is conducted to measure the reaction times of participants exposed to different types of stimuli. The goal is to investigate if there are significant differences in reaction times across the three stimulus conditions."
   ]
  },
  {
   "cell_type": "markdown",
   "id": "4fcaf66f",
   "metadata": {},
   "source": [
    "**Hypotheses:**\n",
    "\n",
    "- Null Hypothesis (Ho) : The mean reaction times are equal across all stimulus conditions.\n",
    "- Alternative Hypothesis (Ha) : At least one group has a different mean reaction time."
   ]
  },
  {
   "cell_type": "code",
   "execution_count": 82,
   "id": "f782a35f",
   "metadata": {},
   "outputs": [
    {
     "data": {
      "text/html": [
       "<div>\n",
       "<style scoped>\n",
       "    .dataframe tbody tr th:only-of-type {\n",
       "        vertical-align: middle;\n",
       "    }\n",
       "\n",
       "    .dataframe tbody tr th {\n",
       "        vertical-align: top;\n",
       "    }\n",
       "\n",
       "    .dataframe thead th {\n",
       "        text-align: right;\n",
       "    }\n",
       "</style>\n",
       "<table border=\"1\" class=\"dataframe\">\n",
       "  <thead>\n",
       "    <tr style=\"text-align: right;\">\n",
       "      <th></th>\n",
       "      <th>Visual</th>\n",
       "      <th>Auditory</th>\n",
       "      <th>Tactile</th>\n",
       "    </tr>\n",
       "  </thead>\n",
       "  <tbody>\n",
       "    <tr>\n",
       "      <th>0</th>\n",
       "      <td>209.934283</td>\n",
       "      <td>197.965868</td>\n",
       "      <td>210.416515</td>\n",
       "    </tr>\n",
       "    <tr>\n",
       "      <th>1</th>\n",
       "      <td>197.234714</td>\n",
       "      <td>247.045564</td>\n",
       "      <td>216.286820</td>\n",
       "    </tr>\n",
       "    <tr>\n",
       "      <th>2</th>\n",
       "      <td>212.953771</td>\n",
       "      <td>209.730056</td>\n",
       "      <td>197.873301</td>\n",
       "    </tr>\n",
       "    <tr>\n",
       "      <th>3</th>\n",
       "      <td>230.460597</td>\n",
       "      <td>188.845781</td>\n",
       "      <td>196.075868</td>\n",
       "    </tr>\n",
       "    <tr>\n",
       "      <th>4</th>\n",
       "      <td>195.316933</td>\n",
       "      <td>226.450898</td>\n",
       "      <td>236.250516</td>\n",
       "    </tr>\n",
       "    <tr>\n",
       "      <th>5</th>\n",
       "      <td>195.317261</td>\n",
       "      <td>185.583127</td>\n",
       "      <td>247.124801</td>\n",
       "    </tr>\n",
       "    <tr>\n",
       "      <th>6</th>\n",
       "      <td>231.584256</td>\n",
       "      <td>214.177272</td>\n",
       "      <td>218.559798</td>\n",
       "    </tr>\n",
       "    <tr>\n",
       "      <th>7</th>\n",
       "      <td>215.348695</td>\n",
       "      <td>170.806598</td>\n",
       "      <td>240.070658</td>\n",
       "    </tr>\n",
       "    <tr>\n",
       "      <th>8</th>\n",
       "      <td>190.610512</td>\n",
       "      <td>183.436279</td>\n",
       "      <td>227.232721</td>\n",
       "    </tr>\n",
       "    <tr>\n",
       "      <th>9</th>\n",
       "      <td>210.851201</td>\n",
       "      <td>213.937225</td>\n",
       "      <td>207.097605</td>\n",
       "    </tr>\n",
       "    <tr>\n",
       "      <th>10</th>\n",
       "      <td>190.731646</td>\n",
       "      <td>224.769332</td>\n",
       "      <td>227.227912</td>\n",
       "    </tr>\n",
       "    <tr>\n",
       "      <th>11</th>\n",
       "      <td>190.685405</td>\n",
       "      <td>213.427366</td>\n",
       "      <td>250.760731</td>\n",
       "    </tr>\n",
       "    <tr>\n",
       "      <th>12</th>\n",
       "      <td>204.839245</td>\n",
       "      <td>207.687034</td>\n",
       "      <td>219.283479</td>\n",
       "    </tr>\n",
       "    <tr>\n",
       "      <th>13</th>\n",
       "      <td>161.734395</td>\n",
       "      <td>203.977926</td>\n",
       "      <td>251.292873</td>\n",
       "    </tr>\n",
       "    <tr>\n",
       "      <th>14</th>\n",
       "      <td>165.501643</td>\n",
       "      <td>180.429560</td>\n",
       "      <td>167.605098</td>\n",
       "    </tr>\n",
       "    <tr>\n",
       "      <th>15</th>\n",
       "      <td>188.754249</td>\n",
       "      <td>195.603116</td>\n",
       "      <td>236.438050</td>\n",
       "    </tr>\n",
       "    <tr>\n",
       "      <th>16</th>\n",
       "      <td>179.743378</td>\n",
       "      <td>200.787225</td>\n",
       "      <td>221.740941</td>\n",
       "    </tr>\n",
       "    <tr>\n",
       "      <th>17</th>\n",
       "      <td>206.284947</td>\n",
       "      <td>231.142445</td>\n",
       "      <td>214.019853</td>\n",
       "    </tr>\n",
       "    <tr>\n",
       "      <th>18</th>\n",
       "      <td>181.839518</td>\n",
       "      <td>216.872366</td>\n",
       "      <td>221.835216</td>\n",
       "    </tr>\n",
       "    <tr>\n",
       "      <th>19</th>\n",
       "      <td>171.753926</td>\n",
       "      <td>174.739197</td>\n",
       "      <td>180.248622</td>\n",
       "    </tr>\n",
       "    <tr>\n",
       "      <th>20</th>\n",
       "      <td>229.312975</td>\n",
       "      <td>216.481679</td>\n",
       "      <td>215.606562</td>\n",
       "    </tr>\n",
       "    <tr>\n",
       "      <th>21</th>\n",
       "      <td>195.484474</td>\n",
       "      <td>202.298354</td>\n",
       "      <td>227.142251</td>\n",
       "    </tr>\n",
       "    <tr>\n",
       "      <th>22</th>\n",
       "      <td>201.350564</td>\n",
       "      <td>196.461560</td>\n",
       "      <td>249.557881</td>\n",
       "    </tr>\n",
       "    <tr>\n",
       "      <th>23</th>\n",
       "      <td>171.505036</td>\n",
       "      <td>222.233526</td>\n",
       "      <td>209.634596</td>\n",
       "    </tr>\n",
       "    <tr>\n",
       "      <th>24</th>\n",
       "      <td>189.112346</td>\n",
       "      <td>230.619990</td>\n",
       "      <td>203.830128</td>\n",
       "    </tr>\n",
       "    <tr>\n",
       "      <th>25</th>\n",
       "      <td>202.218452</td>\n",
       "      <td>228.625602</td>\n",
       "      <td>209.964859</td>\n",
       "    </tr>\n",
       "    <tr>\n",
       "      <th>26</th>\n",
       "      <td>176.980128</td>\n",
       "      <td>193.215650</td>\n",
       "      <td>238.308042</td>\n",
       "    </tr>\n",
       "    <tr>\n",
       "      <th>27</th>\n",
       "      <td>207.513960</td>\n",
       "      <td>203.815752</td>\n",
       "      <td>226.575022</td>\n",
       "    </tr>\n",
       "    <tr>\n",
       "      <th>28</th>\n",
       "      <td>187.987226</td>\n",
       "      <td>216.625269</td>\n",
       "      <td>209.404796</td>\n",
       "    </tr>\n",
       "    <tr>\n",
       "      <th>29</th>\n",
       "      <td>194.166125</td>\n",
       "      <td>229.510903</td>\n",
       "      <td>230.265349</td>\n",
       "    </tr>\n",
       "  </tbody>\n",
       "</table>\n",
       "</div>"
      ],
      "text/plain": [
       "        Visual    Auditory     Tactile\n",
       "0   209.934283  197.965868  210.416515\n",
       "1   197.234714  247.045564  216.286820\n",
       "2   212.953771  209.730056  197.873301\n",
       "3   230.460597  188.845781  196.075868\n",
       "4   195.316933  226.450898  236.250516\n",
       "5   195.317261  185.583127  247.124801\n",
       "6   231.584256  214.177272  218.559798\n",
       "7   215.348695  170.806598  240.070658\n",
       "8   190.610512  183.436279  227.232721\n",
       "9   210.851201  213.937225  207.097605\n",
       "10  190.731646  224.769332  227.227912\n",
       "11  190.685405  213.427366  250.760731\n",
       "12  204.839245  207.687034  219.283479\n",
       "13  161.734395  203.977926  251.292873\n",
       "14  165.501643  180.429560  167.605098\n",
       "15  188.754249  195.603116  236.438050\n",
       "16  179.743378  200.787225  221.740941\n",
       "17  206.284947  231.142445  214.019853\n",
       "18  181.839518  216.872366  221.835216\n",
       "19  171.753926  174.739197  180.248622\n",
       "20  229.312975  216.481679  215.606562\n",
       "21  195.484474  202.298354  227.142251\n",
       "22  201.350564  196.461560  249.557881\n",
       "23  171.505036  222.233526  209.634596\n",
       "24  189.112346  230.619990  203.830128\n",
       "25  202.218452  228.625602  209.964859\n",
       "26  176.980128  193.215650  238.308042\n",
       "27  207.513960  203.815752  226.575022\n",
       "28  187.987226  216.625269  209.404796\n",
       "29  194.166125  229.510903  230.265349"
      ]
     },
     "execution_count": 82,
     "metadata": {},
     "output_type": "execute_result"
    }
   ],
   "source": [
    "# Data Generation:\n",
    "\n",
    "import numpy as np\n",
    "import pandas as pd\n",
    "from scipy import stats\n",
    "\n",
    "# Set random seed for reproducibility\n",
    "np.random.seed(42)\n",
    "\n",
    "# Generate data for three groups (stimulus conditions)\n",
    "stimuli_types = ['Visual', 'Auditory', 'Tactile']\n",
    "\n",
    "# Generate simulated reaction time data for each group\n",
    "reaction_times = {\n",
    "    'Visual': np.random.normal(loc=200, scale=20, size=30),\n",
    "    'Auditory': np.random.normal(loc=210, scale=20, size=30),\n",
    "    'Tactile': np.random.normal(loc=220, scale=20, size=30)\n",
    "}\n",
    "\n",
    "# Combine data into a DataFrame\n",
    "data = pd.DataFrame({stimulus: rt for stimulus, rt in reaction_times.items()})\n",
    "data"
   ]
  },
  {
   "cell_type": "code",
   "execution_count": 83,
   "id": "f7b9ff5a",
   "metadata": {},
   "outputs": [],
   "source": [
    "# Perform one-way ANOVA\n"
   ]
  },
  {
   "cell_type": "code",
   "execution_count": 19,
   "id": "87314583",
   "metadata": {},
   "outputs": [],
   "source": [
    "# Check if the p-value is less than the significance level (e.g., 0.05)\n",
    "\n"
   ]
  },
  {
   "cell_type": "markdown",
   "id": "a429a81c",
   "metadata": {},
   "source": [
    "# Chi-square Test for Categorical Variables:\n",
    "\n",
    "The chi-square test is a statistical test used to determine if there's a significant association between two categorical variables.\n",
    "\n",
    "**Key Points:**\n",
    "\n",
    "- **1. Null Hypothesis (Ho):**\n",
    "    - Assumes no association between the variables.\n",
    "\n",
    "- **2. Alternative Hypothesis (Ha):**\n",
    "    - Assumes an association between the variables.\n",
    "\n",
    "- **3. Test Statistic:**\n",
    "    - The chi-square test calculates a test statistic based on the differences between the observed and expected frequencies in a contingency table.\n",
    "\n",
    "- **4. Contingency Table:**\n",
    "    - A table that shows the distribution of frequencies across categories for each variable. It helps compare observed and expected values.\n",
    "\n",
    "- **5. Degrees of Freedom:**\n",
    "    - The degrees of freedom depend on the number of categories in the variables being analyzed.\n",
    "\n",
    "- **6. P-Value:**\n",
    "    - The chi-square test produces a p-value. If it's below a chosen significance level (e.g., 0.05), you reject the null hypothesis, suggesting evidence of an association.\n",
    "\n",
    "In essence, the chi-square test helps you determine if the observed distribution of categorical data differs from what you would expect by chance, providing insights into the relationship between variables.\n"
   ]
  },
  {
   "cell_type": "markdown",
   "id": "66f19d5c",
   "metadata": {},
   "source": [
    "## Question\n",
    "\n",
    "Test whether there is a significant association between gender (male/female) and the preference for a particular subject (Math, English, Science)."
   ]
  },
  {
   "cell_type": "code",
   "execution_count": 27,
   "id": "fcb51a5e",
   "metadata": {},
   "outputs": [],
   "source": [
    "# Example data\n",
    "\n",
    "observed_data = np.array([[30, 20, 10], [25, 25, 20]])  # Example contingency table"
   ]
  },
  {
   "cell_type": "code",
   "execution_count": 20,
   "id": "a4cb8aaf",
   "metadata": {},
   "outputs": [],
   "source": [
    "# Calculate the chi2-statistic and p_value\n",
    "\n"
   ]
  },
  {
   "cell_type": "code",
   "execution_count": 21,
   "id": "019816d7",
   "metadata": {},
   "outputs": [],
   "source": [
    "# Check if the p-value is less than the significance level (e.g., 0.05)\n",
    "\n"
   ]
  },
  {
   "cell_type": "markdown",
   "id": "71da5d1e",
   "metadata": {},
   "source": [
    "___\n",
    "\n",
    "<a href=\"https://lms.clarusway.com/mod/lesson/view.php?id=8511&pageid=8142&startlastseen=no\"><img align=\"left\" src=\"https://i.ibb.co/6Z5pQxD/lmss.png\" alt=\"Open in Clarusway LMS\" width=\"70\" height=\"200\" title=\"Open Clarusway Learning Management Sytem\"></a>\n",
    "\n",
    "<a href=\"\"><img align=\"right\" src=\"https://i.ibb.co/n3HWyQX/github-logo.png\" alt=\"Open in Clarusway GitHub\" width=\"100\" height=\"150\" title=\"Open and Execute in Clarusway GitHub Repository\"></a>\n",
    "\n",
    "<p style=\"text-align: center;\"><img src=\"https://docs.google.com/uc?id=1lY0Uj5R04yMY3-ZppPWxqCr5pvBLYPnV\" class=\"img-fluid\" \n",
    "alt=\"CLRSWY\"></p>\n",
    "\n",
    "## <p style=\"background-color:#FDFEFE; font-family:newtimeroman; color:#9d4f8c; font-size:100%; text-align:center; border-radius:10px 10px;\">WAY TO REINVENT YOURSELF</p>"
   ]
  }
 ],
 "metadata": {
  "kernelspec": {
   "display_name": "Python 3 (ipykernel)",
   "language": "python",
   "name": "python3"
  },
  "language_info": {
   "codemirror_mode": {
    "name": "ipython",
    "version": 3
   },
   "file_extension": ".py",
   "mimetype": "text/x-python",
   "name": "python",
   "nbconvert_exporter": "python",
   "pygments_lexer": "ipython3",
   "version": "3.11.5"
  },
  "toc": {
   "base_numbering": 1,
   "nav_menu": {},
   "number_sections": true,
   "sideBar": true,
   "skip_h1_title": false,
   "title_cell": "Table of Contents",
   "title_sidebar": "Contents",
   "toc_cell": false,
   "toc_position": {},
   "toc_section_display": true,
   "toc_window_display": false
  },
  "varInspector": {
   "cols": {
    "lenName": 16,
    "lenType": 16,
    "lenVar": 40
   },
   "kernels_config": {
    "python": {
     "delete_cmd_postfix": "",
     "delete_cmd_prefix": "del ",
     "library": "var_list.py",
     "varRefreshCmd": "print(var_dic_list())"
    },
    "r": {
     "delete_cmd_postfix": ") ",
     "delete_cmd_prefix": "rm(",
     "library": "var_list.r",
     "varRefreshCmd": "cat(var_dic_list()) "
    }
   },
   "types_to_exclude": [
    "module",
    "function",
    "builtin_function_or_method",
    "instance",
    "_Feature"
   ],
   "window_display": false
  }
 },
 "nbformat": 4,
 "nbformat_minor": 5
}
