{
 "cells": [
  {
   "cell_type": "markdown",
   "id": "43f1fa62",
   "metadata": {},
   "source": [
    "# STATISTICS NOTES"
   ]
  },
  {
   "cell_type": "markdown",
   "id": "bbac9fa8",
   "metadata": {},
   "source": [
    "### 5 important concepts"
   ]
  },
  {
   "cell_type": "markdown",
   "id": "c264e129",
   "metadata": {},
   "source": [
    "1. Rows are are observations, columns are features\n",
    "2. Encoding: Transforming categorical data into numeric data\n",
    "3. Skewness: Focus on the tail of the graph\n",
    "4. Outliers: Extreme values, are they mistake or real values?\n",
    "5. Imputation: Fill missing values"
   ]
  },
  {
   "cell_type": "markdown",
   "id": "6acbcee4",
   "metadata": {},
   "source": [
    "##  What is Statistics?"
   ]
  },
  {
   "cell_type": "markdown",
   "id": "364dfe64",
   "metadata": {},
   "source": [
    "Statistics;\n",
    "- is the grammar of science\n",
    "- is a branch of mathematics\n",
    "- deals with the collection, analysis, interpretation, and presentation of masses of numerical data.\n",
    "- learning from data"
   ]
  },
  {
   "cell_type": "markdown",
   "id": "9f3dead5",
   "metadata": {},
   "source": [
    "## What can statistics do and can't do?"
   ]
  },
  {
   "cell_type": "markdown",
   "id": "ff4236e8",
   "metadata": {},
   "source": [
    "- Statistics can't answer the question why people do sth.\n",
    "- But can answer questions like whether people who eat fast food work more than 80 hours a week?"
   ]
  },
  {
   "cell_type": "markdown",
   "id": "5884c0d5",
   "metadata": {},
   "source": [
    "## What are statistic types?"
   ]
  },
  {
   "cell_type": "markdown",
   "id": "7c4f5891",
   "metadata": {},
   "source": [
    "1. Descriptive statistics\n",
    "\n",
    "- Summarize huge amounts of data and give us useful information, makes it more digestibale\n",
    "- Measures of CENTRAL TENDENCY (mean, median, mode)\n",
    "- Measures of how SPREAD out data are\n",
    "\n",
    "2. Infrential statistics\n",
    "\n",
    "- Make conclusions that extend beyond the data we have\n",
    "- Helps us to test an idea or hypothesis\n",
    "- Not certain, tells how likely sth is or is not\n",
    "- Helps us make desicions when there is uncertainty\n",
    "- Takes a sample from the population and guess what is population like"
   ]
  },
  {
   "cell_type": "markdown",
   "id": "ede8e8e8",
   "metadata": {},
   "source": [
    "## What is the role of statistics in data science?"
   ]
  },
  {
   "cell_type": "markdown",
   "id": "6cd8fb00",
   "metadata": {},
   "source": [
    "- Data science is at the intersection of computer science, math&statistical skills, and domain knowledge.\n",
    "\n",
    "- A data scientist is called a person who knows more statistics than a programmer and more programming than a statistician"
   ]
  },
  {
   "cell_type": "markdown",
   "id": "f3a1c296",
   "metadata": {},
   "source": [
    "## What is the difference between statistics and data science? or are they same?"
   ]
  },
  {
   "cell_type": "markdown",
   "id": "baa5933f",
   "metadata": {},
   "source": [
    "- Both deals with data, collect it and interpret it\n",
    "\n",
    "- However data science is a collection of disciplines: computer science, engineering, operational research, statistics maybe some philosophy\n",
    "- like other sciences data science use statistical tools as well, but ds goes beyond one discipline"
   ]
  },
  {
   "cell_type": "markdown",
   "id": "ba955497",
   "metadata": {},
   "source": [
    "## What is data?"
   ]
  },
  {
   "cell_type": "markdown",
   "id": "b34ed165",
   "metadata": {},
   "source": [
    "- characteristics or information\n",
    "- usually numerical\n",
    "- collected through observation"
   ]
  },
  {
   "cell_type": "markdown",
   "id": "5999f215",
   "metadata": {},
   "source": [
    "## What are types of data?"
   ]
  },
  {
   "cell_type": "markdown",
   "id": "157821a9",
   "metadata": {},
   "source": [
    "1. NUMERICAL-QUANTITATIVE (Numbers)\n",
    "\n",
    "- Countable, measurable, structured\n",
    "\n",
    "a. Continuous (non-integer, infinite options) i.e.height(1.78)\n",
    "\n",
    "b. Discrete (integer, certain number-finite options) i.e.count of flowers(35)\n",
    "\n",
    "2. CATEGORICAL-QUALITATIVE (Words)\n",
    "\n",
    "- Descriptive, unstructured\n",
    "\n",
    "a. Ordinal (hierarchical, has a natural order) i.e.education level\n",
    "\n",
    "b. Nominal (non-hierarchical, does not require order) i.e.race"
   ]
  },
  {
   "cell_type": "markdown",
   "id": "a8717ff4",
   "metadata": {},
   "source": [
    "## Why should we know data types?"
   ]
  },
  {
   "cell_type": "markdown",
   "id": "cda1b26b",
   "metadata": {},
   "source": [
    "For exploratory data analysis it is crucial.\n",
    "We can only use certain statistical measurements for certain types of data!\n",
    "When working with categorical data in machine learning, it is essential to convert these variables into a numerical format that algorithms can understand."
   ]
  },
  {
   "cell_type": "markdown",
   "id": "444b9e06",
   "metadata": {},
   "source": [
    "## How to use data types?"
   ]
  },
  {
   "cell_type": "markdown",
   "id": "0a8b878c",
   "metadata": {},
   "source": [
    "1. NUMERICAL-QUANTITATIVE\n",
    "\n",
    "- Easy to collect, use and draw conclusions from\n",
    "- Findings are straightforward and less open to error but can be limited, does not always tell the full story\n",
    "- Their central tendency, variability, distribution, correlation, or causations are described through statistical analysis\n",
    "- Some statistical methods for numerical data are mean, median, mode, standard deviation, variance, histogram, scatter plot, regression, and ANOVA.\n",
    "\n",
    "2. CATEGORICAL-QUALITATIVE\n",
    "\n",
    "- Offers rich, in-depth insights and great for exploratory purposes\n",
    "- Delivers a predictive element for continuous data\n",
    "- Since it relies upon the experience of of the host can lead to misleading conclusions\n",
    "- Analyzed by grouping-transforming the data into categories and themes\n",
    "- We can use statistical analysis for categorical data to compare their frequencies, proportions, or associations\n",
    "- Some statistical methods for categorical data are frequency table, pie chart, bar chart, chi-square test, and contingency table."
   ]
  },
  {
   "cell_type": "markdown",
   "id": "37195466",
   "metadata": {},
   "source": [
    "## Encoding"
   ]
  },
  {
   "cell_type": "markdown",
   "id": "5305123c",
   "metadata": {},
   "source": [
    "There are two techniques to convert categorical data into numerical format:\n",
    "\n",
    "1. Label Encoding: \n",
    "\n",
    "A unique integer or alphabetical ordering represents each label.\n",
    "The feature is ranked based on the alphabetical order. When there is no order in the feature this can mislead the machine learning model like there is an order.\n",
    "\n",
    "2. One Hot Encoding:\n",
    "\n",
    "It simply creates additional features based on the number of unique values in the categorical feature. Every unique value in the category will be added as a feature. \n",
    "It is the process of creating DUMMY variables.\n",
    "It has disadvantages like Dummy Variable Trap which is a scenario in some variables are highly correlated to each other."
   ]
  },
  {
   "cell_type": "markdown",
   "id": "06f89c54",
   "metadata": {},
   "source": [
    "## Graphical Represantaion of Data"
   ]
  },
  {
   "cell_type": "markdown",
   "id": "5ca8becb",
   "metadata": {},
   "source": [
    "### 1. Pie Chart"
   ]
  },
  {
   "cell_type": "markdown",
   "id": "1376eac4",
   "metadata": {},
   "source": [
    "- Show the percentage/relative frequency\n",
    "- Used for categorical data\n",
    "- But not recommended when there are too many categories"
   ]
  },
  {
   "cell_type": "markdown",
   "id": "548ae5a6",
   "metadata": {},
   "source": [
    "### 2. Bar Chart"
   ]
  },
  {
   "cell_type": "markdown",
   "id": "d5f25b22",
   "metadata": {},
   "source": [
    "- Show frequencies/real values\n",
    "- Used for categorical data\n",
    "- To stay understandable avoid rainbow effect and using more dimensions than needed!\n",
    "- Seaborn's countplot is equal to bar chart\n",
    "- Seaborn's barplot takes a categorical data on x axis but category is not counted! Another feature's which is numeric, mean is calculated.  "
   ]
  },
  {
   "cell_type": "markdown",
   "id": "ace0d279",
   "metadata": {},
   "source": [
    "### 3. Histogram"
   ]
  },
  {
   "cell_type": "markdown",
   "id": "dc53808b",
   "metadata": {},
   "source": [
    "- Shows the distribution of pure numeric data\n",
    "- Particularly useful when there are a large number of observations\n",
    "- To simplify we can generate fictious categories by breaking into intervals and grouping them (buckets/bins)\n",
    "- KDE plot is the summary of histogram\n",
    "- It resembles a bar chart in shape and a boxplot in function."
   ]
  },
  {
   "cell_type": "markdown",
   "id": "12dae966",
   "metadata": {},
   "source": [
    "#### Differences between bar charts and histograms"
   ]
  },
  {
   "cell_type": "markdown",
   "id": "86d13605",
   "metadata": {},
   "source": [
    "- With bar charts, the labels on the X axis are categorical (or discrete); with histograms, the labels are numerical\n",
    "- Histogram columns are shown adjoining whereas bar chart columns are seperate from each other."
   ]
  },
  {
   "cell_type": "markdown",
   "id": "f25342c3",
   "metadata": {},
   "source": [
    "## Population and Sample"
   ]
  },
  {
   "cell_type": "markdown",
   "id": "874b0b0a",
   "metadata": {},
   "source": [
    "- A population is the total group about whom we want to make conclusions\n",
    "- A sample is a subset of the population for whom we actually have data\n",
    "- Population attributes: Parameters\n",
    "- Sample attributes: Statistics\n",
    "\n",
    "Why do we take samples?\n",
    "- To be able to study about large populations\n",
    "- Inferential statistical methods help us to make decisions and predictions about the population parameters based on the sample statistics\n",
    "\n",
    "**We observe samples but our research target is populations"
   ]
  },
  {
   "cell_type": "markdown",
   "id": "73bc1605",
   "metadata": {},
   "source": [
    "### Sampling Techniques"
   ]
  },
  {
   "cell_type": "markdown",
   "id": "c2a9c270",
   "metadata": {},
   "source": [
    "1. Probability sampling \n",
    "- random selection, every member has a chance to be selected\n",
    "- allows strong statistical inferences\n",
    "- simple, systematic, stratified, cluster sampling are probability methods\n",
    "- best method is simple random\n",
    "\n",
    "2. Non-Probability sampling\n",
    "- if not obligatory try not to use\n",
    "- these methods lead mistakes\n",
    "- non-random selection\n",
    "- allows easily collect data \n",
    "- convenience, voluntary response, purposive, snowball sampling are non-probability methods"
   ]
  },
  {
   "cell_type": "markdown",
   "id": "9fc0498f",
   "metadata": {},
   "source": [
    "**Python perceives data given to it always as sample! "
   ]
  },
  {
   "cell_type": "markdown",
   "id": "e3f5dfa5",
   "metadata": {},
   "source": [
    "## CENTRAL TENDENCY (measure of CENTRE)"
   ]
  },
  {
   "cell_type": "markdown",
   "id": "f72d0ff9",
   "metadata": {},
   "source": [
    "One single value can best describe the data!\n",
    "\n",
    "1. Mean\n",
    "- Balance point\n",
    "- Mean is particularly sensitive to outliers\n",
    "\n",
    "2. Median\n",
    "- Middle point when dataset is sorted from small to large\n",
    "- Unsensitive to outliers\n",
    "- Is a real value from the data set if number of values are odd\n",
    "\n",
    "3. Mode\n",
    "- The most frequent score in a dataset\n",
    "- Highest bar in a histogram or bar chart"
   ]
  },
  {
   "cell_type": "markdown",
   "id": "ea6db94f",
   "metadata": {},
   "source": [
    "### When we use each central tendency measure?"
   ]
  },
  {
   "cell_type": "markdown",
   "id": "1e310f03",
   "metadata": {},
   "source": [
    "- The mean is better if a large set of scores does not have an outlier\n",
    "\n",
    "- The median is better if a small set of scores has an outlier\n",
    "\n",
    "- The mode is used for categorical data to know which category is the most common, the most popular option"
   ]
  },
  {
   "cell_type": "markdown",
   "id": "329dae59",
   "metadata": {},
   "source": [
    "### How we use central tendency in data science?"
   ]
  },
  {
   "cell_type": "markdown",
   "id": "0911c073",
   "metadata": {},
   "source": [
    "- For imputation of missing values"
   ]
  },
  {
   "cell_type": "markdown",
   "id": "c486e5a0",
   "metadata": {},
   "source": [
    "## Dispersion (Measure of Spread)"
   ]
  },
  {
   "cell_type": "markdown",
   "id": "d4b5aafd",
   "metadata": {},
   "source": [
    "Central tendency, a single value can't describe the observation exactly\n",
    "Dipersion helps to study variability of the items\n",
    "\n",
    "1. Range\n",
    "- Maximum - minimum\n",
    "- Highly susceptible to extreme values\n",
    "\n",
    "2. Standard Deviation\n",
    "- average distance from the mean\n",
    "- square root of variance\n",
    "- variance is average of squared distances from the mean\n",
    "- very sensitive to outliers\n",
    "- data with a smaller standard deviation has a narrower spread around the mean \n",
    "\n",
    "3. Interquartile Range (IQR)\n",
    "- the range of the middle half of a distribution\n",
    "- Q2/second quartile/the median\n",
    "- Q1/25th percentile/first quartile is the middle number between the smallest and the median\n",
    "- Q3/75th percentile/third quartile is the middle number between the highest and the median\n",
    "- IQR = Q3 - Q1 "
   ]
  },
  {
   "cell_type": "markdown",
   "id": "85dd1f43",
   "metadata": {},
   "source": [
    "### How we use dispersion in data science?"
   ]
  },
  {
   "cell_type": "markdown",
   "id": "68d44320",
   "metadata": {},
   "source": [
    "Standard deviation is a good indicator of the existence of outliers\n",
    "\n",
    "IQR is used for detecting outliers\n",
    "Outlier is any data point 1.5 IQR below the Q1 or above the Q3"
   ]
  },
  {
   "cell_type": "markdown",
   "id": "ef4a25e4",
   "metadata": {},
   "source": [
    "### Use of central tendency with dispersion"
   ]
  },
  {
   "cell_type": "markdown",
   "id": "2b59bf11",
   "metadata": {},
   "source": [
    "- If mean is 6-8 times greater than standard deviation it can be considered as a normal case.\n",
    "- If standard deviation is equal to mean or greater than mean there is a high probability of being outliers in our dataset\n",
    "- We can also check min and max values if they are compatible with the data type "
   ]
  },
  {
   "cell_type": "markdown",
   "id": "7882b648",
   "metadata": {},
   "source": [
    "### Box Plot"
   ]
  },
  {
   "cell_type": "markdown",
   "id": "f8ea49e7",
   "metadata": {},
   "source": [
    "- Box plots/box-whisker plots used for outlier detection\n",
    "- Approximately the middle 50 percent of the data fall inside the box. \n",
    "- The whiskers extend from the ends of the box to the smallest and largest data values. However if there is outlier whiskers do not extend to min and max values.\n",
    "- Shows how far the extreme values are from the most of the data\n",
    "- Boxplot is one dimentional whereas histogram is two dimensional"
   ]
  },
  {
   "cell_type": "markdown",
   "id": "1b9eccf5",
   "metadata": {},
   "source": [
    "### Scatter Plot"
   ]
  },
  {
   "cell_type": "markdown",
   "id": "4bebae75",
   "metadata": {},
   "source": [
    "- Used between two numeric datas\n",
    "- Shows the direction and strength of relationship between variables\n",
    "- Relationship gets stronger when points are much more like a line\n",
    "- A horizantal line is no relationship\n",
    "- Patterns show us the rleationship:\n",
    "\n",
    "1. Linearity\n",
    "2. Slope shows direction, negative or positive. Direction is not about stregth.\n",
    "3. Strength: If the points are far from each other and scattered weak, if they are close strong\n",
    "4. Unusual Features: gaps, clusters and outliers"
   ]
  },
  {
   "cell_type": "markdown",
   "id": "8f0966db",
   "metadata": {},
   "source": [
    "## Correlation"
   ]
  },
  {
   "cell_type": "markdown",
   "id": "6a4ca177",
   "metadata": {},
   "source": [
    "- Shows the degree of the linear relationship between two variables\n",
    "- How one variable changes with another one\n",
    "- It provides direction and stregth of relationship\n",
    "- Over 0.40 correlation can be used\n",
    "- 0.60 correlation can be considered powerful\n",
    "- 0.80 correlation can be considered very powerful\n",
    "\n",
    "- The most common way to show correlation is Pearson Correlation Coefficient\n",
    "- Pearson Correlation Coefficient tries to draw a line of best fit through the data points of two variables"
   ]
  },
  {
   "cell_type": "markdown",
   "id": "d81e9862",
   "metadata": {},
   "source": [
    "## Covariance"
   ]
  },
  {
   "cell_type": "markdown",
   "id": "65d230ca",
   "metadata": {},
   "source": [
    "- Shows how variables behave together\n",
    "- It provides direction but does not provide the strength of relationship\n",
    "- Same direction cov > 0\n",
    "- Opposite direction cov < 0\n",
    "- independent cov = 0"
   ]
  },
  {
   "cell_type": "markdown",
   "id": "b308bbe3",
   "metadata": {},
   "source": [
    "## Normal Distribution (Gaussian/Bell Curve)"
   ]
  },
  {
   "cell_type": "markdown",
   "id": "0b19a35b",
   "metadata": {},
   "source": [
    "- Symmetrical distribution, single peak in the middle\n",
    "- The further you get from the mean things occur, so distribution tapers out\n",
    "- Defined by the mean and standard deviation\n",
    "- Population mean (µ) chatacterizes the position of normal distribution\n",
    "- Population standard deviation (σ) chatacterizes the spread of normal distribution\n",
    "- Normal distribution is unimodal, mean is in the middle/centre and peak\n",
    "- Mean, median and mode are equal\n",
    "- Standard deviation tells us how spread out the data\n",
    "- Most of the data is considered to follow this pattern\n",
    "- Good for modeling natural processes, manifacturing processes and human endeavors\n",
    "- House prices, incomes are not well modeled by normal distribution, they have skew\n",
    "\n",
    "- Central Limit Theorem (CLT), states that if we add up many independent, random events / variables, the distribution can be potentially describe with a normal density function under certain conditions\n",
    "- When we add together many occurences from non-normal distributions you tend to get a normal distribution\n",
    "- Even though the distribution for each individual customer is nothing like the normal, once we add 10 customers together the result is likely to be a normal distribution."
   ]
  },
  {
   "cell_type": "markdown",
   "id": "eaf5566a",
   "metadata": {},
   "source": [
    "- Kurtosis is used to measure the degree of peakedness or flatness of a distribution compared to a normal distribution\n",
    "- If kurtosis > 0 sharp and narrow\n",
    "- If kurtosis = 0 it is normal distribution "
   ]
  },
  {
   "cell_type": "markdown",
   "id": "535581ff",
   "metadata": {},
   "source": [
    "### Emprical Rule (Three Sigma)"
   ]
  },
  {
   "cell_type": "markdown",
   "id": "92ba8dc0",
   "metadata": {},
   "source": [
    "- Normal distribution is a density curve. A density curve is a graph that shows probability. The area under the curve is equal to 100 percent of all probabilities. \n",
    "- %68 of a normal distribution will lie within 1 standard deviations of the mean\n",
    "- %95 of a normal distribution will lie within 2 standard deviations of the mean\n",
    "- %99.7 of a normal distribution will lie within 3 standard deviations of the mean\n",
    "\n",
    "- Used to find probability\n",
    "- The empirical rule is beneficial because it serves as a means of forecasting data\n",
    "- Three-sigma limits that follow the empirical rule are used to set the upper and lower control limits in statistical quality control charts and in risk analysis"
   ]
  },
  {
   "cell_type": "markdown",
   "id": "749c178b",
   "metadata": {},
   "source": [
    "## Z Score (Standard Normal Table)"
   ]
  },
  {
   "cell_type": "markdown",
   "id": "cb64b8ea",
   "metadata": {},
   "source": [
    "- The standard normal distribution is a normal distribution with mean μ = 0 and standard deviation σ = 1\n",
    "- Any normal distribution can be converted to standard normal distribution by standardization\n",
    "- When using a z table, you should keep in mind that the values provided in the table represent the probability at or below the indicated z score. "
   ]
  },
  {
   "cell_type": "markdown",
   "id": "3fef5537",
   "metadata": {},
   "source": [
    "https://www.linkedin.com/advice/3/how-can-you-use-statistical-analysis-different-data\n",
    "\n",
    "https://www.fullstory.com/blog/qualitative-vs-quantitative-data/\n",
    "\n",
    "https://www.scribbr.com/statistics/variability/\n",
    "\n",
    "https://www.investopedia.com/terms/e/empirical-rule.asp"
   ]
  }
 ],
 "metadata": {
  "kernelspec": {
   "display_name": "Python 3 (ipykernel)",
   "language": "python",
   "name": "python3"
  },
  "language_info": {
   "codemirror_mode": {
    "name": "ipython",
    "version": 3
   },
   "file_extension": ".py",
   "mimetype": "text/x-python",
   "name": "python",
   "nbconvert_exporter": "python",
   "pygments_lexer": "ipython3",
   "version": "3.11.5"
  }
 },
 "nbformat": 4,
 "nbformat_minor": 5
}
